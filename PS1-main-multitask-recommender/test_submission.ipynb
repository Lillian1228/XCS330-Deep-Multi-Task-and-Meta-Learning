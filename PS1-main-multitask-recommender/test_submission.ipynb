{
 "cells": [
  {
   "cell_type": "code",
   "execution_count": 3,
   "id": "3e9478de-3043-4991-940b-cb84b17864e6",
   "metadata": {},
   "outputs": [
    {
     "name": "stdout",
     "output_type": "stream",
     "text": [
      "Makefile              meta.json             test_submission.ipynb\n",
      "PS1.pdf               points.json           \u001b[34mtex\u001b[m\u001b[m\n",
      "README.md             \u001b[34msrc\u001b[m\u001b[m\n",
      "\u001b[34mREADME_media\u001b[m\u001b[m          submission.pdf\n"
     ]
    }
   ],
   "source": [
    "!ls"
   ]
  },
  {
   "cell_type": "code",
   "execution_count": 2,
   "id": "7446b631-ee66-4aec-a290-21d685abdcf2",
   "metadata": {},
   "outputs": [],
   "source": [
    "!cd src\n"
   ]
  },
  {
   "cell_type": "code",
   "execution_count": 4,
   "id": "b130093f-2f89-4e4a-883f-558606d76b1f",
   "metadata": {},
   "outputs": [
    {
     "name": "stdout",
     "output_type": "stream",
     "text": [
      "Traceback (most recent call last):\n",
      "  File \"/Users/chenhuizhang/Desktop/MOOC/XCS330/XCS330-PS1-main/src/grader.py\", line 14, in <module>\n",
      "    import torch\n",
      "ModuleNotFoundError: No module named 'torch'\n"
     ]
    }
   ],
   "source": [
    "!python src/grader.py"
   ]
  },
  {
   "cell_type": "code",
   "execution_count": 5,
   "id": "06a2a7c7-b98a-4f32-a6df-68770e3f6d02",
   "metadata": {},
   "outputs": [],
   "source": [
    "import torch"
   ]
  },
  {
   "cell_type": "code",
   "execution_count": null,
   "id": "3ef1c2de-827b-4eaa-ac00-742e509fb354",
   "metadata": {},
   "outputs": [],
   "source": []
  }
 ],
 "metadata": {
  "kernelspec": {
   "display_name": "XCS330",
   "language": "python",
   "name": "xcs330"
  },
  "language_info": {
   "codemirror_mode": {
    "name": "ipython",
    "version": 3
   },
   "file_extension": ".py",
   "mimetype": "text/x-python",
   "name": "python",
   "nbconvert_exporter": "python",
   "pygments_lexer": "ipython3",
   "version": "3.9.18"
  }
 },
 "nbformat": 4,
 "nbformat_minor": 5
}
