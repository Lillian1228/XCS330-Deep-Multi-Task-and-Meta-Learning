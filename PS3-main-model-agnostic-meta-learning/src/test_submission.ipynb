{
 "cells": [
  {
   "cell_type": "code",
   "execution_count": 2,
   "id": "531d058b-900b-4246-9911-53182f97262c",
   "metadata": {},
   "outputs": [
    {
     "data": {
      "text/plain": [
       "array([[1., 0., 0.],\n",
       "       [0., 1., 0.],\n",
       "       [0., 0., 1.]])"
      ]
     },
     "execution_count": 2,
     "metadata": {},
     "output_type": "execute_result"
    }
   ],
   "source": [
    "import numpy as np\n",
    "np.eye(3)"
   ]
  },
  {
   "cell_type": "code",
   "execution_count": 4,
   "id": "0b69e987-337c-4c3f-a0f1-7686c58c610e",
   "metadata": {},
   "outputs": [
    {
     "data": {
      "text/plain": [
       "[(1, 2), (3, 4)]"
      ]
     },
     "execution_count": 4,
     "metadata": {},
     "output_type": "execute_result"
    }
   ],
   "source": [
    "[(1,2)] + [(3,4)]"
   ]
  },
  {
   "cell_type": "code",
   "execution_count": 5,
   "id": "89ec50a6-3564-4e06-bcb4-824a393e750b",
   "metadata": {},
   "outputs": [
    {
     "data": {
      "text/plain": [
       "tensor([[ 1.1528,  0.3898, -0.3444,  1.1528,  0.3898, -0.3444,  1.1528,  0.3898,\n",
       "         -0.3444],\n",
       "        [-0.8716, -0.2491,  0.3150, -0.8716, -0.2491,  0.3150, -0.8716, -0.2491,\n",
       "          0.3150]])"
      ]
     },
     "execution_count": 5,
     "metadata": {},
     "output_type": "execute_result"
    }
   ],
   "source": [
    "import torch\n",
    "x = torch.randn(2, 3)\n",
    "\n",
    "torch.cat((x, x, x), -1)"
   ]
  },
  {
   "cell_type": "code",
   "execution_count": 7,
   "id": "6b7aff69-3ac7-4da1-aa15-4e5cc067cf3a",
   "metadata": {},
   "outputs": [
    {
     "data": {
      "text/plain": [
       "torch.Size([2, 3])"
      ]
     },
     "execution_count": 7,
     "metadata": {},
     "output_type": "execute_result"
    }
   ],
   "source": [
    "x.shape"
   ]
  },
  {
   "cell_type": "code",
   "execution_count": 8,
   "id": "9f870d92-1f10-4a29-92f4-ca8d72f32d52",
   "metadata": {},
   "outputs": [
    {
     "data": {
      "text/plain": [
       "torch.Size([2, 9])"
      ]
     },
     "execution_count": 8,
     "metadata": {},
     "output_type": "execute_result"
    }
   ],
   "source": [
    "torch.cat((x, x, x), -1).shape"
   ]
  },
  {
   "cell_type": "code",
   "execution_count": 10,
   "id": "81ca1520-80cc-44c9-bfe7-4d60245241f5",
   "metadata": {},
   "outputs": [
    {
     "data": {
      "text/plain": [
       "torch.Size([6, 3])"
      ]
     },
     "execution_count": 10,
     "metadata": {},
     "output_type": "execute_result"
    }
   ],
   "source": [
    "torch.cat((x, x, x), 0).shape"
   ]
  },
  {
   "cell_type": "code",
   "execution_count": 15,
   "id": "775f9aff-9be6-4a88-b9d6-b807fee25648",
   "metadata": {},
   "outputs": [
    {
     "ename": "TypeError",
     "evalue": "list indices must be integers or slices, not tuple",
     "output_type": "error",
     "traceback": [
      "\u001b[0;31m---------------------------------------------------------------------------\u001b[0m",
      "\u001b[0;31mTypeError\u001b[0m                                 Traceback (most recent call last)",
      "Cell \u001b[0;32mIn[15], line 2\u001b[0m\n\u001b[1;32m      1\u001b[0m l \u001b[38;5;241m=\u001b[39m [\u001b[38;5;241m1\u001b[39m,\u001b[38;5;241m2\u001b[39m,\u001b[38;5;241m3\u001b[39m,\u001b[38;5;241m4\u001b[39m]\n\u001b[0;32m----> 2\u001b[0m \u001b[43ml\u001b[49m\u001b[43m[\u001b[49m\u001b[38;5;241;43m1\u001b[39;49m\u001b[43m,\u001b[49m\u001b[38;5;241;43m-\u001b[39;49m\u001b[38;5;241;43m1\u001b[39;49m\u001b[43m]\u001b[49m\n",
      "\u001b[0;31mTypeError\u001b[0m: list indices must be integers or slices, not tuple"
     ]
    }
   ],
   "source": [
    "l = [1,2,3,4]\n",
    "l[1,-1]"
   ]
  },
  {
   "cell_type": "code",
   "execution_count": 22,
   "id": "37e29b13-01b8-4c96-bd80-e519f8431d4e",
   "metadata": {},
   "outputs": [
    {
     "data": {
      "text/plain": [
       "2"
      ]
     },
     "execution_count": 22,
     "metadata": {},
     "output_type": "execute_result"
    }
   ],
   "source": [
    "l[int(len(l)/2-1)] "
   ]
  },
  {
   "cell_type": "code",
   "execution_count": 23,
   "id": "5636db21-3779-4ad9-ab1d-6575c167a39f",
   "metadata": {},
   "outputs": [
    {
     "data": {
      "text/plain": [
       "array([[1., 0.],\n",
       "       [0., 1.]])"
      ]
     },
     "execution_count": 23,
     "metadata": {},
     "output_type": "execute_result"
    }
   ],
   "source": [
    "np.eye(2)"
   ]
  },
  {
   "cell_type": "code",
   "execution_count": 26,
   "id": "bc2ebbb2-ec3a-4647-8747-c413f4143ab2",
   "metadata": {},
   "outputs": [
    {
     "name": "stdout",
     "output_type": "stream",
     "text": [
      "0\n",
      "1\n",
      "2\n"
     ]
    }
   ],
   "source": [
    "for i in range(3):\n",
    "    print(i)"
   ]
  },
  {
   "cell_type": "code",
   "execution_count": 27,
   "id": "d1b16967-9f7d-4730-84f4-9788c1ca8c99",
   "metadata": {},
   "outputs": [
    {
     "data": {
      "text/plain": [
       "784"
      ]
     },
     "execution_count": 27,
     "metadata": {},
     "output_type": "execute_result"
    }
   ],
   "source": [
    "28*28"
   ]
  },
  {
   "cell_type": "code",
   "execution_count": 1,
   "id": "87226a27-324a-4cad-86cc-9f76e13c977c",
   "metadata": {},
   "outputs": [
    {
     "name": "stdout",
     "output_type": "stream",
     "text": [
      "Traceback (most recent call last):\n",
      "  File \"/Users/chenhuizhang/Desktop/MOOC/XCS330/XCS330-PS3-main/src/grader.py\", line 9, in <module>\n",
      "    import torch\n",
      "ModuleNotFoundError: No module named 'torch'\n"
     ]
    }
   ],
   "source": [
    "!python grader.py"
   ]
  },
  {
   "cell_type": "code",
   "execution_count": 2,
   "id": "dd50f7ea-4f79-4eac-a76b-7bbc3fe5cef1",
   "metadata": {},
   "outputs": [
    {
     "data": {
      "text/plain": [
       "defaultdict(list, {})"
      ]
     },
     "execution_count": 2,
     "metadata": {},
     "output_type": "execute_result"
    }
   ],
   "source": [
    "from collections import defaultdict\n",
    "prototype_dict = defaultdict(list)\n",
    "prototype_dict"
   ]
  },
  {
   "cell_type": "code",
   "execution_count": null,
   "id": "b3a09898-05f1-42aa-a459-45af879a78ca",
   "metadata": {},
   "outputs": [],
   "source": [
    "prototype_dict[int(label_support)].append(images_support_emb[idx])"
   ]
  }
 ],
 "metadata": {
  "kernelspec": {
   "display_name": "XCS330",
   "language": "python",
   "name": "xcs330"
  },
  "language_info": {
   "codemirror_mode": {
    "name": "ipython",
    "version": 3
   },
   "file_extension": ".py",
   "mimetype": "text/x-python",
   "name": "python",
   "nbconvert_exporter": "python",
   "pygments_lexer": "ipython3",
   "version": "3.9.18"
  }
 },
 "nbformat": 4,
 "nbformat_minor": 5
}
